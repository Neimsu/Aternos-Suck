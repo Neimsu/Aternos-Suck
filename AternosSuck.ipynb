{
  "nbformat": 4,
  "nbformat_minor": 0,
  "metadata": {
    "colab": {
      "name": "AternosSuck",
      "provenance": [],
      "collapsed_sections": []
    },
    "kernelspec": {
      "name": "python3",
      "display_name": "Python 3"
    },
    "language_info": {
      "name": "python"
    }
  },
  "cells": [
    {
      "cell_type": "markdown",
      "source": [
        "**Tạo máy chủ Minecraft trên Google Colab!**\n",
        "```\n",
        "Lưu ý: \n",
        "- Google Colab chỉ chạy được tối đa 12h. Sau 12h sẽ bị tự động reset.\n",
        "- Tất cả tài nguyên vẫn được lưu vào Google Drive nên sẽ không mất.\n",
        "- Khi server đang hoạt động vui lòng không đóng tab này.\n",
        "```\n",
        "\n",
        "```\n",
        "Phiên bản hỗ trợ:\n",
        "- 1.8 -> 1.18.x\n",
        "```\n",
        "\n",
        "```\n",
        "Hỗ trợ:\n",
        "- https://www.facebook.com/neimsu/\n",
        "- https://discord.gg/Rx8DG74UBB\n",
        "```\n",
        "\n",
        "\n"
      ],
      "metadata": {
        "id": "g9aPHaEvy2LP"
      }
    },
    {
      "cell_type": "code",
      "source": [
        "#@title **SERVER MENU**\n",
        "#@markdown Nhập phiên bản Minecraft:\n",
        "\n",
        "# Các phiên bản hỗ trợ:\n",
        "# 1.8 -> 1.18.x\n",
        "\n",
        "import requests\n",
        "from IPython.display import clear_output \n",
        "\n",
        "Phien_ban =  \"1.18.2\" #@param {type: \"string\"}\n",
        "jname = \"spigot-\" + Phien_ban + \".jar\"\n",
        "durl = \"https://download.getbukkit.org/spigot/spigot-\" + Phien_ban + \".jar\"\n",
        "dpath = \"/content/drive/MyDrive/Minecraft-server/\" + Phien_ban\n",
        "\n",
        "# Kết nối Google Colab với Google Drive\n",
        "from google.colab import drive\n",
        "drive.mount('/content/drive')\n",
        "\n",
        "# Thiết lập tunnel\n",
        "!pip -q install pyngrok\n",
        "from pyngrok import conf, ngrok\n",
        "clear_output()\n",
        "print(\"Vào trang https://dashboard.ngrok.com/auth và copy Authtoken.\")\n",
        "import getpass\n",
        "authtoken = getpass.getpass()\n",
        "!ngrok authtoken $authtoken\n",
        "conf.get_default().region = 'ap'\n",
        "url = ngrok.connect(25565, 'tcp')\n",
        "clear_output()\n",
        "print(\"============================================\")\n",
        "print('IP server là: ' + ((str(url).split('\"')[1::2])[0]).replace('tcp://', ''))\n",
        "print(\"============================================\")\n",
        "# Cài java\n",
        "if Phien_ban >= \"1.17.\":\n",
        "  print(\"\\nLưu ý: Phiên bản 1.17.x trở lên yêu cầu Java 16!\")\n",
        "  print(\"Đang tải xuống bản cập nhật Java...\")\n",
        "  !sudo apt-get install openjdk-17-jre-headless &>/dev/null && echo \"Đang cập nhật...\" || echo \"Cập nhật thất bại! Vui lòng thử lại.\"\n",
        "  java_ver = !java -version 2>&1 | awk -F[\\\"\\.] -v OFS=. 'NR==1{print $2}'\n",
        "  if java_ver[0] == \"17\" :\n",
        "    print(\"Thiết lập java thành công!\")\n",
        "  else:\n",
        "    print(\"Thiết lập java thất bại! Vui lòng thử lại.\")\n",
        "\n",
        "# Kiểm tra thư mục hiện tại\n",
        "print(\"\\nThư mục hiện tại:\")\n",
        "!mkdir -p $dpath\n",
        "%cd $dpath\n",
        "\n",
        "# Tải Spigot\n",
        "print(\"\\nĐang tải xuống phiên bản \" + Phien_ban + \"...\")\n",
        "print(\"\\n\")\n",
        "!wget -q -c -nc $durl &>/dev/null && echo \"Tải xuống thành công!\" || echo \"Thất bại <!> Không có phiên bản này!\"\n",
        "print(\"\\n\")\n",
        "\n",
        "# Eula=true\n",
        "!echo \"eula=true\" >> eula.txt\n",
        "\n",
        "# Chạy server\n",
        "print(\"Đang bắt đầu server...\\n\")\n",
        "!java -DIReallyKnowWhatIAmDoingISwear -jar $jname nogui\n",
        "while True:pass # Ngăn không cho Google Colab tự tắt\n"
      ],
      "metadata": {
        "id": "WoMh02HlR-gV"
      },
      "execution_count": null,
      "outputs": []
    }
  ]
}